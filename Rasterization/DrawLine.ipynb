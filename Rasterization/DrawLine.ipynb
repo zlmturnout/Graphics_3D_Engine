{
 "cells": [
  {
   "cell_type": "code",
   "execution_count": 1,
   "metadata": {},
   "outputs": [],
   "source": [
    "import os,sys,time\n",
    "from PIL import Image\n",
    "import numpy as np\n",
    "\n",
    "from collections import namedtuple"
   ]
  },
  {
   "cell_type": "code",
   "execution_count": 28,
   "metadata": {},
   "outputs": [],
   "source": [
    "Point2D=namedtuple(\"Point2D\", [\"x\", \"y\"])\n",
    "Color = namedtuple(\"Color\", [\"r\", \"g\", \"b\", \"alpha\"])\n",
    "def createIMGarray(w:int,h:int,channel:int=3):\n",
    "    \"\"\"Create a image 3D array for image data\n",
    "\n",
    "    Args:\n",
    "        w (int): width\n",
    "        h (int): height\n",
    "        channel (int, optional): channels,default RGB Defaults to 3. RGBa=4\n",
    "    \"\"\"\n",
    "    return np.zeros(shape=(h,w,channel))\n",
    "\n",
    "p0=Point2D(0,2);p1=Point2D(2,30)"
   ]
  },
  {
   "cell_type": "code",
   "execution_count": 18,
   "metadata": {},
   "outputs": [
    {
     "data": {
      "text/plain": [
       "range(5, 1)"
      ]
     },
     "execution_count": 18,
     "metadata": {},
     "output_type": "execute_result"
    }
   ],
   "source": [
    "p0,p1\n",
    "range(5,1)"
   ]
  },
  {
   "cell_type": "code",
   "execution_count": 71,
   "metadata": {},
   "outputs": [
    {
     "name": "stdout",
     "output_type": "stream",
     "text": [
      "Point2D(x=700, y=300) Point2D(x=600, y=300)\n"
     ]
    },
    {
     "data": {
      "text/plain": [
       "[]"
      ]
     },
     "execution_count": 71,
     "metadata": {},
     "output_type": "execute_result"
    }
   ],
   "source": [
    "def interpolate(P0:Point2D,P1:Point2D):\n",
    "    if P0.x==P1.x:\n",
    "        return [P0]\n",
    "    LinePoints=[]\n",
    "    slop=(P1.y-P0.y)/(P1.x-P0.x)\n",
    "    if abs(slop)<1:\n",
    "        if P0.x>P1.x:\n",
    "            swap(P0,P1)\n",
    "            print(P0,P1)\n",
    "        for i in range(P0.x,P1.x+1):\n",
    "            d=round(P0.y+slop*(i-P0.x))\n",
    "            newPoint=Point2D(i,d)\n",
    "            LinePoints.append(newPoint) \n",
    "    else:\n",
    "        if P0.y>P1.y:\n",
    "            swap(P0,P1)\n",
    "            print(P0,P1)\n",
    "        for d in range(P0.y,P1.y+1):\n",
    "            i=round(P0.x+(d-P0.y)/slop)\n",
    "            newPoint=Point2D(i,d)\n",
    "            LinePoints.append(newPoint) \n",
    "    return LinePoints\n",
    "\n",
    "def swap(P0:Point2D,P1:Point2D):\n",
    "    temp=P1\n",
    "    P1=P0\n",
    "    P0=temp\n",
    "    return P0,P1\n",
    "\n",
    "p0=Point2D(700,300);p1=Point2D(600,300)\n",
    "interpolate(p0,p1)\n",
    "#swap(p0,p1)"
   ]
  },
  {
   "cell_type": "code",
   "execution_count": 40,
   "metadata": {},
   "outputs": [],
   "source": [
    "def put_pixel(img:np.array([]),point:Point2D,color:Color):\n",
    "    \"\"\"put color into the image array at pos=(x,y) pixel\n",
    "\n",
    "    Args:\n",
    "        img (np.array): _description_\n",
    "        x (int): pixel num of width\n",
    "        y (int): pixel num of height\n",
    "        color (Color): _description_\n",
    "    \"\"\"\n",
    "    h,w,channel=img.shape\n",
    "    x,y=point.x,point.y\n",
    "    Sx=int(w/2+x)-1\n",
    "    Sy=int(h/2-y)-1\n",
    "    r,g,b,a=tuple(color)\n",
    "    if channel==3:\n",
    "        img[Sy][Sx]=(r,g,b)\n",
    "    elif channel==4:\n",
    "        img[Sy][Sx]=(r,g,b,a)\n",
    "    return img\n",
    "          \n",
    "def drawline(img:np.array([]),P0:Point2D,P1:Point2D,color:Color):\n",
    "    line_points=interpolate(P0,P1)\n",
    "    \n",
    "    for point in line_points:\n",
    "        put_pixel(img,point,color)"
   ]
  },
  {
   "cell_type": "code",
   "execution_count": 66,
   "metadata": {},
   "outputs": [],
   "source": [
    "p0=Point2D(600,300);p1=Point2D(600,300)\n",
    "color=Color(255,0,0,255)\n",
    "img_new=createIMGarray(w=1280,h=720)\n",
    "drawline(img_new,p0,p1,color)\n",
    "im_cut=Image.fromarray(img_new.astype('uint8')).convert('RGB')\n",
    "im_cut.show()"
   ]
  },
  {
   "cell_type": "code",
   "execution_count": null,
   "metadata": {},
   "outputs": [],
   "source": []
  }
 ],
 "metadata": {
  "kernelspec": {
   "display_name": "Python 3",
   "language": "python",
   "name": "python3"
  },
  "language_info": {
   "codemirror_mode": {
    "name": "ipython",
    "version": 3
   },
   "file_extension": ".py",
   "mimetype": "text/x-python",
   "name": "python",
   "nbconvert_exporter": "python",
   "pygments_lexer": "ipython3",
   "version": "3.11.0"
  },
  "orig_nbformat": 4
 },
 "nbformat": 4,
 "nbformat_minor": 2
}
